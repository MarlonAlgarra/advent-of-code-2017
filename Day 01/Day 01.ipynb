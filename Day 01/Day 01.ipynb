{
 "cells": [
  {
   "cell_type": "markdown",
   "id": "8b8d9450",
   "metadata": {},
   "source": [
    "# Day 01"
   ]
  },
  {
   "cell_type": "code",
   "execution_count": 4,
   "id": "c560fc8e",
   "metadata": {},
   "outputs": [],
   "source": [
    "with open(\"Day01.txt\", \"r\") as f:\n",
    "    txt_list = [str(line.strip()) for line in f]"
   ]
  },
  {
   "cell_type": "markdown",
   "id": "cdcff62f",
   "metadata": {},
   "source": [
    "## Part one:"
   ]
  },
  {
   "cell_type": "code",
   "execution_count": 5,
   "id": "d06d389c",
   "metadata": {},
   "outputs": [
    {
     "name": "stdout",
     "output_type": "stream",
     "text": [
      "1228\n",
      "Wall time: 998 µs\n"
     ]
    }
   ],
   "source": [
    "%%time\n",
    "cache = []\n",
    "sequence = txt_list[0]\n",
    "for i in range(-1,len(sequence)-1):\n",
    "    if(sequence[i] == sequence[i+1]):\n",
    "        cache.append(int(sequence[i]))\n",
    "print(sum(cache))"
   ]
  },
  {
   "cell_type": "markdown",
   "id": "738140df",
   "metadata": {},
   "source": [
    "## Part two:"
   ]
  },
  {
   "cell_type": "code",
   "execution_count": 6,
   "id": "5eadedbe",
   "metadata": {},
   "outputs": [
    {
     "name": "stdout",
     "output_type": "stream",
     "text": [
      "1238\n",
      "Wall time: 2 ms\n"
     ]
    }
   ],
   "source": [
    "%%time\n",
    "cache = []\n",
    "steps = len(sequence) // 2\n",
    "for i in range(0,len(sequence)):\n",
    "    if(i<steps):\n",
    "        if(sequence[i]==sequence[i+steps]):\n",
    "            cache.append(int(sequence[i]))\n",
    "    else:\n",
    "        if(sequence[i]==sequence[i%steps]):\n",
    "            cache.append(int(sequence[i]))\n",
    "print(sum(cache))"
   ]
  }
 ],
 "metadata": {
  "kernelspec": {
   "display_name": "Python 3",
   "language": "python",
   "name": "python3"
  },
  "language_info": {
   "codemirror_mode": {
    "name": "ipython",
    "version": 3
   },
   "file_extension": ".py",
   "mimetype": "text/x-python",
   "name": "python",
   "nbconvert_exporter": "python",
   "pygments_lexer": "ipython3",
   "version": "3.8.8"
  }
 },
 "nbformat": 4,
 "nbformat_minor": 5
}
