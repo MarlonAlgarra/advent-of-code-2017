{
 "cells": [
  {
   "cell_type": "markdown",
   "id": "4c8fb94a",
   "metadata": {},
   "source": [
    "# Day 02"
   ]
  },
  {
   "cell_type": "code",
   "execution_count": 1,
   "id": "f22d8019",
   "metadata": {},
   "outputs": [],
   "source": [
    "with open(\"Day02.txt\", \"r\") as f:\n",
    "    txt_list = [line.strip() for line in f]"
   ]
  },
  {
   "cell_type": "markdown",
   "id": "01dc5a92",
   "metadata": {},
   "source": [
    "## Part one:"
   ]
  },
  {
   "cell_type": "code",
   "execution_count": 2,
   "id": "4c6cf4fe",
   "metadata": {},
   "outputs": [
    {
     "name": "stdout",
     "output_type": "stream",
     "text": [
      "44216\n"
     ]
    }
   ],
   "source": [
    "rowResults = []\n",
    "rows = []\n",
    "for i in txt_list: \n",
    "    tempRow = [int(item) for item in i.split('\\t')]\n",
    "    rows.append(tempRow)\n",
    "    rowResults.append(max(tempRow) - min(tempRow))\n",
    "print(sum(rowResults))"
   ]
  },
  {
   "cell_type": "markdown",
   "id": "f6c5f97e",
   "metadata": {},
   "source": [
    "## Part two:"
   ]
  },
  {
   "cell_type": "code",
   "execution_count": 3,
   "id": "d1b5e9bb",
   "metadata": {},
   "outputs": [
    {
     "name": "stdout",
     "output_type": "stream",
     "text": [
      "320\n"
     ]
    }
   ],
   "source": [
    "cache = []; flag = False\n",
    "for item in rows:\n",
    "    for i in item:\n",
    "        for j in item:\n",
    "            if (i%j == 0) and (i!=j):\n",
    "                cache.append(i//j)\n",
    "                flag = True\n",
    "                break\n",
    "print(sum(cache))"
   ]
  }
 ],
 "metadata": {
  "kernelspec": {
   "display_name": "Python 3",
   "language": "python",
   "name": "python3"
  },
  "language_info": {
   "codemirror_mode": {
    "name": "ipython",
    "version": 3
   },
   "file_extension": ".py",
   "mimetype": "text/x-python",
   "name": "python",
   "nbconvert_exporter": "python",
   "pygments_lexer": "ipython3",
   "version": "3.8.8"
  }
 },
 "nbformat": 4,
 "nbformat_minor": 5
}
